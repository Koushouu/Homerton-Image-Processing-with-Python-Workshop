{
 "cells": [
  {
   "cell_type": "markdown",
   "metadata": {},
   "source": [
    "# codelab 01: Explore image data"
   ]
  },
  {
   "cell_type": "markdown",
   "metadata": {},
   "source": [
    "## Part 1: Explore image data"
   ]
  },
  {
   "cell_type": "markdown",
   "metadata": {},
   "source": [
    "### Sec01: Using Scikit-image to read an image"
   ]
  },
  {
   "cell_type": "code",
   "execution_count": null,
   "metadata": {},
   "outputs": [],
   "source": [
    "from skimage.io import imread\n",
    "\n",
    "# Read image from local file\n",
    "img = imread(r'..\\example_images\\xy_8bit__nuclei_high_dynamic_range.tif')"
   ]
  },
  {
   "cell_type": "code",
   "execution_count": null,
   "metadata": {},
   "outputs": [],
   "source": [
    "img.dtype"
   ]
  },
  {
   "cell_type": "code",
   "execution_count": null,
   "metadata": {},
   "outputs": [],
   "source": [
    "img.shape"
   ]
  },
  {
   "cell_type": "markdown",
   "metadata": {},
   "source": [
    "### Sec02: Show image with matplotlib"
   ]
  },
  {
   "cell_type": "code",
   "execution_count": null,
   "metadata": {},
   "outputs": [],
   "source": [
    "import matplotlib.pyplot as plt\n",
    "plt.figure(figsize=(4,4))\n",
    "plt.imshow(img, interpolation='none',cmap = 'gray')"
   ]
  },
  {
   "cell_type": "code",
   "execution_count": null,
   "metadata": {},
   "outputs": [],
   "source": [
    "# trimming\n",
    "cropped_img = img[0:20, 50:70]\n",
    "plt.figure(figsize=(4,4))\n",
    "plt.imshow(cropped_img, interpolation='none',cmap = 'gray')"
   ]
  },
  {
   "cell_type": "code",
   "execution_count": null,
   "metadata": {},
   "outputs": [],
   "source": [
    "cropped_img"
   ]
  },
  {
   "cell_type": "markdown",
   "metadata": {},
   "source": [
    "### Sec03: Look at the intensity profile of the image"
   ]
  },
  {
   "cell_type": "code",
   "execution_count": null,
   "metadata": {},
   "outputs": [],
   "source": [
    "import matplotlib.pyplot as plt\n",
    "plt.figure(figsize=(4,4))\n",
    "plt.subplot(211)\n",
    "plt.imshow(img, interpolation='none',cmap = 'gray')\n",
    "# Add a yline at 120\n",
    "plt.axhline(120, color='r', linestyle='--')\n",
    "\n",
    "# Look at the intensity profile along the y-axis\n",
    "plt.subplot(212)\n",
    "plt.plot(img[120,:])"
   ]
  },
  {
   "cell_type": "code",
   "execution_count": null,
   "metadata": {},
   "outputs": [],
   "source": [
    "import numpy as np\n",
    "\n",
    "plt.figure(figsize=(4,4))\n",
    "plt.imshow(np.log(img), interpolation='none',cmap = 'gray')\n",
    "plt.show()"
   ]
  },
  {
   "cell_type": "code",
   "execution_count": null,
   "metadata": {},
   "outputs": [],
   "source": [
    "# Show the histogram of the image\n",
    "plt.figure(figsize=(4,4))\n",
    "plt.hist(img.flatten(), bins=256, range=(0, 256), density=True, color='black', alpha=0.5)\n",
    "plt.show()"
   ]
  },
  {
   "cell_type": "markdown",
   "metadata": {},
   "source": [
    "## Part 1 Bonus: Visualize 3D data with Napari"
   ]
  },
  {
   "cell_type": "code",
   "execution_count": null,
   "metadata": {},
   "outputs": [],
   "source": [
    "from skimage.data import cells3d\n",
    "img = cells3d()\n",
    "\n",
    "img.shape"
   ]
  },
  {
   "cell_type": "code",
   "execution_count": null,
   "metadata": {},
   "outputs": [],
   "source": [
    "# Split channels\n",
    "ch0 = img[:,0,:,:]\n",
    "ch1 = img[:,1,:,:]\n",
    "\n",
    "print(f'Size of ch0: {ch0.shape}')"
   ]
  },
  {
   "cell_type": "code",
   "execution_count": null,
   "metadata": {},
   "outputs": [],
   "source": [
    "import napari\n",
    "\n",
    "viewer = napari.Viewer()\n",
    "\n",
    "ch0_img = viewer.add_image(ch0, name='Channel 0', colormap='magenta', blending='additive')\n",
    "ch1_img = viewer.add_image(ch1, name='Channel 1', colormap='green', blending='additive')"
   ]
  },
  {
   "cell_type": "code",
   "execution_count": null,
   "metadata": {},
   "outputs": [],
   "source": [
    "# Rescale the image due to unisotropic voxel size\n",
    "viewer.layers['Channel 0'].scale = [0.29, 0.26, 0.26]\n",
    "viewer.layers['Channel 1'].scale = [0.29, 0.26, 0.26]\n"
   ]
  },
  {
   "cell_type": "code",
   "execution_count": null,
   "metadata": {},
   "outputs": [],
   "source": [
    "# You can also compress the image to 2D and display with matplotlib\n",
    "import numpy as np\n",
    "\n",
    "ch0_2d = np.max(ch0, axis=0)\n",
    "ch1_2d = np.max(ch1, axis=0)\n",
    "\n",
    "plt.figure(figsize=(8,4))\n",
    "plt.subplot(121)\n",
    "plt.imshow(ch0_2d, cmap='viridis')\n",
    "plt.title('Channel 0')\n",
    "plt.subplot(122)\n",
    "plt.imshow(ch1_2d, cmap='viridis')\n",
    "plt.title('Channel 1')\n"
   ]
  }
 ],
 "metadata": {
  "kernelspec": {
   "display_name": "Python 3",
   "language": "python",
   "name": "python3"
  },
  "language_info": {
   "codemirror_mode": {
    "name": "ipython",
    "version": 3
   },
   "file_extension": ".py",
   "mimetype": "text/x-python",
   "name": "python",
   "nbconvert_exporter": "python",
   "pygments_lexer": "ipython3",
   "version": "3.11.9"
  }
 },
 "nbformat": 4,
 "nbformat_minor": 2
}
