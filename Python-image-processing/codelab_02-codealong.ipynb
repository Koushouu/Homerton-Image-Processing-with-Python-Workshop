{
 "cells": [
  {
   "cell_type": "markdown",
   "metadata": {},
   "source": [
    "# codelab 02: Image Processing Walkthrough"
   ]
  },
  {
   "cell_type": "markdown",
   "metadata": {},
   "source": [
    "## Part 1: Load data"
   ]
  },
  {
   "cell_type": "code",
   "execution_count": null,
   "metadata": {},
   "outputs": [],
   "source": [
    "from skimage.io import imread\n",
    "\n",
    "filepath = r'..\\example_images\\example_cells.tif'\n",
    "img = imread(filepath)"
   ]
  },
  {
   "cell_type": "code",
   "execution_count": null,
   "metadata": {},
   "outputs": [],
   "source": [
    "print(\"Loaded array is of type:\", type(img))\n",
    "print(\"Loaded array has shape:\", img.shape)\n",
    "print(\"Loaded values are of type:\", img.dtype)\n",
    "import matplotlib.pyplot as plt\n",
    "plt.imshow(img, interpolation='none', cmap='gray')"
   ]
  },
  {
   "cell_type": "markdown",
   "metadata": {},
   "source": [
    "## Part 2: Preprocessing"
   ]
  },
  {
   "cell_type": "markdown",
   "metadata": {},
   "source": [
    "### Sec01: Smoothing"
   ]
  },
  {
   "cell_type": "code",
   "execution_count": null,
   "metadata": {},
   "outputs": [],
   "source": [
    "# Import the image processing module scipy.ndimage as ndi\n",
    "import ...\n",
    "\n",
    "# Define the sigma value for the Gaussian filter\n",
    "sigma = 3\n",
    "# Apply a Gaussian filter to the image\n",
    "img_smooth = ...\n",
    "\n",
    "# Show the original and the smoothed image\n",
    "plt.figure()\n",
    "plt.imshow(img_smooth, interpolation='none', cmap='gray')"
   ]
  },
  {
   "cell_type": "markdown",
   "metadata": {},
   "source": [
    "### Sec02: Thresholding"
   ]
  },
  {
   "cell_type": "code",
   "execution_count": null,
   "metadata": {},
   "outputs": [],
   "source": [
    "# Define the threshold level\n",
    "thresh = ...\n",
    "# Apply thresholding\n",
    "mem = ...\n",
    "# Check the data type of mem\n",
    "..."
   ]
  },
  {
   "cell_type": "code",
   "execution_count": null,
   "metadata": {},
   "outputs": [],
   "source": [
    "plt.imshow(mem, interpolation='none', cmap='gray')"
   ]
  },
  {
   "cell_type": "code",
   "execution_count": null,
   "metadata": {},
   "outputs": [],
   "source": [
    "# Try automatic thresholding\n",
    "from ...\n",
    "\n",
    "thresh = ...\n",
    "mem = ...\n",
    "plt.figure()\n",
    "plt.imshow(mem, interpolation='none', cmap='gray')\n"
   ]
  },
  {
   "cell_type": "markdown",
   "metadata": {},
   "source": [
    "### Sec03: Background substraction"
   ]
  },
  {
   "cell_type": "markdown",
   "metadata": {},
   "source": [
    "Excercise:\n",
    "Apply the mean filtering to get a background, then subtract the smoothed image with the background to get a background subtracted image.\n",
    "Check the documentation here: https://scikit-image.org/docs/stable/auto_examples/filters/plot_rank_mean.html to apply a mean filtering to the image, to obtain a background image"
   ]
  },
  {
   "cell_type": "code",
   "execution_count": null,
   "metadata": {},
   "outputs": [],
   "source": [
    "# Step 1: Create a structuring element (or footprint) and show it\n",
    "from ...\n",
    "\n",
    "footprint = ...\n",
    "\n",
    "plt.figure(figsize=(9,3))\n",
    "plt.subplot(131)\n",
    "plt.imshow(footprint, interpolation='none', cmap='gray')\n",
    "plt.title('Structuring element (disk)')\n",
    "# Step 2: Apply the mean filter\n",
    "from ...\n",
    "\n",
    "background = ...\n",
    "plt.subplot(132)\n",
    "plt.imshow(background, interpolation='none', cmap='gray')\n",
    "plt.title('Background')\n",
    "\n",
    "# Step 3: Subtract the background\n",
    "backgrund_subtracted = ...\n",
    "plt.subplot(133)\n",
    "plt.imshow(backgrund_subtracted, interpolation='none', cmap='gray')\n",
    "plt.title('Background subtracted')"
   ]
  },
  {
   "cell_type": "markdown",
   "metadata": {},
   "source": [
    "## Part 3: Segmentation"
   ]
  },
  {
   "cell_type": "markdown",
   "metadata": {},
   "source": [
    "### Sec01: Thresholding"
   ]
  },
  {
   "cell_type": "code",
   "execution_count": null,
   "metadata": {},
   "outputs": [],
   "source": [
    "mem = ...\n",
    "plt.figure()\n",
    "plt.imshow(mem, interpolation='none', cmap='gray')"
   ]
  },
  {
   "cell_type": "markdown",
   "metadata": {},
   "source": [
    "### Sec02: Improving masks with binary morphology"
   ]
  },
  {
   "cell_type": "markdown",
   "metadata": {},
   "source": [
    "#### A. fill holes"
   ]
  },
  {
   "cell_type": "code",
   "execution_count": null,
   "metadata": {},
   "outputs": [],
   "source": [
    "mem_holefilled = ...\n",
    "plt.imshow(mem_holefilled, interpolation='none', cmap='gray')"
   ]
  },
  {
   "cell_type": "markdown",
   "metadata": {},
   "source": [
    "#### B. Closing (= Dilation + Erosion)"
   ]
  },
  {
   "cell_type": "code",
   "execution_count": null,
   "metadata": {},
   "outputs": [],
   "source": [
    "SE = ...\n",
    "\n",
    "mem_dilated = ...\n",
    "\n",
    "plt.imshow(mem_dilated, cmap = 'gray');"
   ]
  },
  {
   "cell_type": "code",
   "execution_count": null,
   "metadata": {},
   "outputs": [],
   "source": [
    "mem_eroded = ...\n",
    "plt.imshow(mem_eroded, cmap = 'gray')"
   ]
  },
  {
   "cell_type": "markdown",
   "metadata": {},
   "source": [
    "`ndi.binary_closing` can do this too!"
   ]
  },
  {
   "cell_type": "code",
   "execution_count": null,
   "metadata": {},
   "outputs": [],
   "source": [
    "cell_labels = ...\n",
    "# Show the label on top of the original image\n",
    "from ...\n",
    "image_label_overlay = ...\n",
    "plt.figure()\n",
    "plt.subplot(121)\n",
    "plt.imshow(image_label_overlay, interpolation='none')\n",
    "plt.subplot(122)\n",
    "plt.imshow(img, interpolation='none', cmap='gray')"
   ]
  },
  {
   "cell_type": "markdown",
   "metadata": {},
   "source": [
    "### Sec03: Seeding for Watershed Transform\n",
    "\n",
    "We can label the image as it is, but watershed can produce beter results"
   ]
  },
  {
   "cell_type": "code",
   "execution_count": null,
   "metadata": {},
   "outputs": [],
   "source": [
    "# (i) Run a distance transform on the membrane mask\n",
    "# Use the function 'ndi.distance_transform_edt'\n",
    "dist_trans = ...\n",
    "plt.imshow(dist_trans, interpolation='none', cmap='viridis')"
   ]
  },
  {
   "cell_type": "code",
   "execution_count": null,
   "metadata": {},
   "outputs": [],
   "source": [
    "# (ii) Smoothen the distance transform\n",
    "dist_trans_smooth = ...\n",
    "plt.imshow(dist_trans_smooth, interpolation='none', cmap='viridis')"
   ]
  },
  {
   "cell_type": "code",
   "execution_count": null,
   "metadata": {},
   "outputs": [],
   "source": [
    "# (iii) Get the local maxima (the 'peaks') from the distance transform\n",
    "\n",
    "# Use the function 'peak_local_max' from the module 'skimage.feature'. This function will return the\n",
    "# indices/ coordinates of the pixels where the local maxima are. \n",
    "from ...\n",
    "import ...\n",
    "\n",
    "seeds = ...\n",
    "\n",
    "# (iv) However, we instead need a boolean mask of the same shape as the original image, where all \n",
    "# the local maximum pixels are labeled as `1` and everything else as `0`.\n",
    "\n",
    "# Let's do it step by step. First try have a look at what is in seeds. Can you get these values?\n",
    "# Number of seeds\n",
    "print(f'There are {...} seeds')\n",
    "# The X coordinate of the first seed\n",
    "print(seeds[0][0])\n",
    "# The Y coordinate of the 13th seed\n",
    "print(seeds[13][1])"
   ]
  },
  {
   "cell_type": "code",
   "execution_count": null,
   "metadata": {},
   "outputs": [],
   "source": [
    "# Now, we will start by creating a boolean matrix/ image same size as the original image, but with\n",
    "# all pixel values as 0/ false\n",
    "seeds_mask = ...\n",
    "\n",
    "# For loop through all entries in seeds\n",
    "for seed_id in ...\n",
    "    ...\n",
    "\n",
    "# P.S. for advanced Python coder - this also works without a for loop:\n",
    "# seeds_mask[tuple(seeds.T)] = True"
   ]
  },
  {
   "cell_type": "code",
   "execution_count": null,
   "metadata": {},
   "outputs": [],
   "source": [
    "# (v) Visualize the output \n",
    "\n",
    "# Dilate the seeds for visulization\n",
    "seeds_dil = ...\n",
    "# Label the seeds\n",
    "seeds_labeled = ...\n",
    "\n",
    "image_seeds_overlay = ...\n",
    "plt.figure()\n",
    "plt.imshow(image_seeds_overlay, interpolation='none')"
   ]
  },
  {
   "cell_type": "markdown",
   "metadata": {},
   "source": [
    "### Sec04: Expansion by Watershed"
   ]
  },
  {
   "cell_type": "code",
   "execution_count": null,
   "metadata": {},
   "outputs": [],
   "source": [
    "# (i) Perform watershed\n",
    "\n",
    "# Use the function 'watershed' from the module 'skimage.segmentation'.\n",
    "# Use the labeled cell seeds and the smoothed membrane image as input.\n",
    "from skimage.segmentation import watershed\n",
    "\n",
    "ws = ..."
   ]
  },
  {
   "cell_type": "code",
   "execution_count": null,
   "metadata": {},
   "outputs": [],
   "source": [
    "# (ii) Visulize\n",
    "\n",
    "plt.figure()\n",
    "image_label_overlay = label2rgb(ws, image=img, bg_label=0, alpha=0.5)\n",
    "plt.imshow(image_label_overlay, interpolation='none')\n"
   ]
  },
  {
   "cell_type": "code",
   "execution_count": null,
   "metadata": {},
   "outputs": [],
   "source": [
    "#  Show the original image and the labels on Napari\n",
    "import napari\n",
    "viewer = napari.Viewer()\n",
    "viewer.add_image(img, name='Original image', colormap='gray')\n",
    "label_layer = viewer.add_labels(ws, name='Segmented cells')\n"
   ]
  },
  {
   "cell_type": "code",
   "execution_count": null,
   "metadata": {},
   "outputs": [],
   "source": [
    "# Extract the labeled image\n",
    "labeled_image = ...\n",
    "# Show the labeled image\n",
    "plt.imshow(labeled_image, cmap='nipy_spectral')"
   ]
  },
  {
   "cell_type": "markdown",
   "metadata": {},
   "source": [
    "You will find that most of the \"mis-segmented\" cells are at the boarder of the image - We will think about how to remove them in the last section"
   ]
  },
  {
   "cell_type": "markdown",
   "metadata": {},
   "source": [
    "### Sec05: Save the result"
   ]
  },
  {
   "cell_type": "code",
   "execution_count": null,
   "metadata": {},
   "outputs": [],
   "source": [
    "# Save the segmented image\n",
    "from ...\n",
    "\n",
    "..."
   ]
  }
 ],
 "metadata": {
  "kernelspec": {
   "display_name": "Python 3",
   "language": "python",
   "name": "python3"
  },
  "language_info": {
   "codemirror_mode": {
    "name": "ipython",
    "version": 3
   },
   "file_extension": ".py",
   "mimetype": "text/x-python",
   "name": "python",
   "nbconvert_exporter": "python",
   "pygments_lexer": "ipython3",
   "version": "3.11.9"
  }
 },
 "nbformat": 4,
 "nbformat_minor": 2
}
