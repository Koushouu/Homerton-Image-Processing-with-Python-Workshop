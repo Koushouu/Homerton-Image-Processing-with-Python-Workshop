{
 "cells": [
  {
   "cell_type": "markdown",
   "metadata": {},
   "source": [
    "# Codelab 03: Feature Extraction and Object Classification"
   ]
  },
  {
   "cell_type": "markdown",
   "metadata": {},
   "source": [
    "## Part 1: Load data"
   ]
  },
  {
   "cell_type": "code",
   "execution_count": null,
   "metadata": {},
   "outputs": [],
   "source": [
    "from skimage.io import imread\n",
    "import matplotlib.pyplot as plt\n",
    "import numpy as np\n",
    "from skimage.color import label2rgb"
   ]
  },
  {
   "cell_type": "code",
   "execution_count": null,
   "metadata": {},
   "outputs": [],
   "source": [
    "# Define path\n",
    "labels_filepath = r'../example_images/seed_labels.tif'\n",
    "img_filepath = r'../example_images/seed_img.JPG'\n",
    "\n",
    "# Read images\n",
    "seed_rois = imread(labels_filepath)\n",
    "img = imread(img_filepath)\n",
    "\n",
    "# Split channel\n",
    "img_ch0 = img[:,:,0]\n",
    "img_ch1 = img[:,:,1]\n",
    "img_ch2 = img[:,:,2]\n",
    "\n",
    "# Define a range to visulize\n",
    "x_start = 1000\n",
    "x_end = 2000\n",
    "y_start = 1000\n",
    "y_end = 2000\n",
    "\n",
    "# Display label on top of the image\n",
    "seed_img_overlay = label2rgb(seed_rois, image=img_ch1, bg_label=0, alpha=0.3, bg_color=(1, 1, 1))\n",
    "plt.figure(figsize=(4, 4))\n",
    "plt.imshow(seed_img_overlay[x_start:x_end, y_start:y_end])"
   ]
  },
  {
   "cell_type": "markdown",
   "metadata": {},
   "source": [
    "## Part 2: Measure object properties"
   ]
  },
  {
   "cell_type": "code",
   "execution_count": null,
   "metadata": {},
   "outputs": [],
   "source": [
    "# Import regionprops_table from skimage.measure\n",
    "from skimage.measure import ...\n",
    "\n",
    "# Extract properties from the seed rois in the image channel 0\n",
    "props_ch0 = ...\n",
    "# Extract properties from the seed rois in the image channel 1\n",
    "props_ch1 = ..."
   ]
  },
  {
   "cell_type": "code",
   "execution_count": null,
   "metadata": {},
   "outputs": [],
   "source": [
    "# Import pandas\n",
    "..."
   ]
  },
  {
   "cell_type": "code",
   "execution_count": null,
   "metadata": {},
   "outputs": [],
   "source": [
    "# Convert the properties to pandas dataframe\n",
    "props_ch0_df = ...\n",
    "props_ch1_df = ..."
   ]
  },
  {
   "cell_type": "code",
   "execution_count": null,
   "metadata": {},
   "outputs": [],
   "source": [
    "# Join the two dataframes\n",
    "# lsuffix and rsuffix are used to differentiate the columns from the two dataframes\n",
    "props_df = ..."
   ]
  },
  {
   "cell_type": "code",
   "execution_count": null,
   "metadata": {},
   "outputs": [],
   "source": [
    "# Display the first few rows of the dataframe with *.head() method\n",
    "..."
   ]
  },
  {
   "cell_type": "code",
   "execution_count": null,
   "metadata": {},
   "outputs": [],
   "source": [
    "# Visulize the distribution of data points in color space\n",
    "\n",
    "plt.figure(figsize=(4,4))\n",
    "plt.plot(...\n",
    "plt.xlabel('ch0 Intensity')\n",
    "plt.ylabel('ch1 Intensity')"
   ]
  },
  {
   "cell_type": "code",
   "execution_count": null,
   "metadata": {},
   "outputs": [],
   "source": [
    "# You can also use the seaborn library, a higher level library that utilize pandas and matplotlib to plot graphs\n",
    "\n",
    "# “Seaborn is a library for making statistical graphics in Python. It builds on top of matplotlib and integrates \n",
    "# closely with pandas data structures.”\n",
    "\n",
    "# Import seaborn\n",
    "...\n",
    "\n",
    "# Plot the joint distribution of the two channels\n",
    "..."
   ]
  },
  {
   "cell_type": "code",
   "execution_count": null,
   "metadata": {},
   "outputs": [],
   "source": [
    "# But we are also interested in looking at the distribution of data points in other dimensions. \n",
    "# We can use other features of a scatter plot to represent other aspects of the data\n",
    "..."
   ]
  },
  {
   "cell_type": "markdown",
   "metadata": {},
   "source": [
    "## Part 3: Dimensional Reduction"
   ]
  },
  {
   "cell_type": "markdown",
   "metadata": {},
   "source": [
    "### Sec01: Dimension Reduction with PCA"
   ]
  },
  {
   "cell_type": "code",
   "execution_count": null,
   "metadata": {},
   "outputs": [],
   "source": [
    "# Data scaling: ensuring that one feature doesn’t dominate just because of its scale.\n",
    "# Import StandardScaler from sklearn\n",
    "from sklearn.preprocessing import StandardScaler\n",
    "# Create a StandardScaler object\n",
    "std_scaler = ...\n",
    "# Fit and transform the data\n",
    "props_data = props_df.values\n",
    "props_data_scaled = ..."
   ]
  },
  {
   "cell_type": "code",
   "execution_count": null,
   "metadata": {},
   "outputs": [],
   "source": [
    "# Import PCA from sklearn\n",
    "from sklearn.decomposition import PCA\n",
    "\n",
    "# Create a PCA object with 2 components\n",
    "...\n",
    "\n",
    "# Fit and transform the scaled data\n",
    "seed_pca = ..."
   ]
  },
  {
   "cell_type": "code",
   "execution_count": null,
   "metadata": {},
   "outputs": [],
   "source": [
    "# Print the explained variance ratio\n",
    "# Explined variance ratio is the ratio of the variance of the data points in the new space to the variance of the data points in the original space\n",
    "print(f\"Explained variance ratio: {...}\")"
   ]
  },
  {
   "cell_type": "code",
   "execution_count": null,
   "metadata": {},
   "outputs": [],
   "source": [
    "# Plot the data points in the new space\n",
    "plt.figure(figsize=(4,4))\n",
    "plt.scatter(...\n",
    "plt.xlabel('PC1')\n",
    "plt.ylabel('PC2')"
   ]
  },
  {
   "cell_type": "markdown",
   "metadata": {},
   "source": [
    "### Sec02: Dimension Reduction with UMAP"
   ]
  },
  {
   "cell_type": "code",
   "execution_count": null,
   "metadata": {},
   "outputs": [],
   "source": [
    "import umap.umap_ as umap\n",
    "import warnings\n",
    "warnings.filterwarnings('ignore')"
   ]
  },
  {
   "cell_type": "code",
   "execution_count": null,
   "metadata": {},
   "outputs": [],
   "source": [
    "# \"UMAP is a stochastic algorithm – it makes use of randomness both to speed up approximation steps, \n",
    "# and to aid in solving hard optimization problems.\"\n",
    "..."
   ]
  },
  {
   "cell_type": "code",
   "execution_count": null,
   "metadata": {},
   "outputs": [],
   "source": [
    "# Create a UMAP object\n",
    "reducer = ..."
   ]
  },
  {
   "cell_type": "code",
   "execution_count": null,
   "metadata": {},
   "outputs": [],
   "source": [
    "# Fit and transform the scaled data\n",
    "embedding = ..."
   ]
  },
  {
   "cell_type": "code",
   "execution_count": null,
   "metadata": {},
   "outputs": [],
   "source": [
    "# Plot the data points in the new space\n",
    "plt.scatter(..."
   ]
  },
  {
   "cell_type": "markdown",
   "metadata": {},
   "source": [
    "## Part 4: Clustering/ Classification"
   ]
  },
  {
   "cell_type": "markdown",
   "metadata": {},
   "source": [
    "### Sec01: K-mean"
   ]
  },
  {
   "cell_type": "code",
   "execution_count": null,
   "metadata": {},
   "outputs": [],
   "source": [
    "# Import KMeans from sklearn\n",
    "from sklearn.cluster import KMeans"
   ]
  },
  {
   "cell_type": "code",
   "execution_count": null,
   "metadata": {},
   "outputs": [],
   "source": [
    "# Define the number of clusters\n",
    "n_clusters = 4\n",
    "kmeans = ..."
   ]
  },
  {
   "cell_type": "code",
   "execution_count": null,
   "metadata": {},
   "outputs": [],
   "source": [
    "# Predict the cluster of each data point\n",
    "kmeans_prediction = ..."
   ]
  },
  {
   "cell_type": "code",
   "execution_count": null,
   "metadata": {},
   "outputs": [],
   "source": [
    "# Plot the data points in the new space with the cluster information\n",
    "for i in range(n_clusters):\n",
    "    plt.plot(..."
   ]
  },
  {
   "cell_type": "markdown",
   "metadata": {},
   "source": [
    "### Sec02: HDBSCAN\n",
    "How HDBSCAN works: https://hdbscan.readthedocs.io/en/latest/how_hdbscan_works.html"
   ]
  },
  {
   "cell_type": "code",
   "execution_count": null,
   "metadata": {},
   "outputs": [],
   "source": [
    "# Import hdbscan\n",
    "import hdbscan\n",
    "# Create a HDBSCAN object, and fit the data\n",
    "clusterer = ...\n",
    "clusterer..."
   ]
  },
  {
   "cell_type": "code",
   "execution_count": null,
   "metadata": {},
   "outputs": [],
   "source": [
    "# Predict the cluster of each data point\n",
    "cluster_ids = np.unique(clusterer.labels_)\n",
    "print(f'There are {len(cluster_ids)} clusters, with cluster ID: {cluster_ids}.')"
   ]
  },
  {
   "cell_type": "code",
   "execution_count": null,
   "metadata": {},
   "outputs": [],
   "source": [
    "# Plot the data points in the new space with the cluster information\n",
    "for cluster_id in cluster_ids:\n",
    "    ...\n",
    "plt.xlabel('UMAP1')\n",
    "plt.ylabel('UMAP2')\n",
    "plt.title('UMAP Analysis Results, labelled by HDBSCAN cluster ID')"
   ]
  },
  {
   "cell_type": "markdown",
   "metadata": {},
   "source": [
    "## Part 5: Visulization of the clustering results"
   ]
  },
  {
   "cell_type": "code",
   "execution_count": null,
   "metadata": {},
   "outputs": [],
   "source": [
    "props_df.shape[0]"
   ]
  },
  {
   "cell_type": "code",
   "execution_count": null,
   "metadata": {},
   "outputs": [],
   "source": [
    "\n",
    "\n",
    "# Check the original image for the clustering result\n",
    "num_roi = props_df.shape[0]\n",
    "\n",
    "roi_cluster_labels = np.zeros_like(seed_rois)\n",
    "\n",
    "for roi_id in range(num_roi):\n",
    "    # Get ROI of a single seed\n",
    "    seed_roi = ...\n",
    "\n",
    "    # Add ROIs to the roi_cluster_labels, with label as cluster Id + 1 (+1 such that the label won't be background)\n",
    "    roi_cluster_labels[seed_roi] = ..."
   ]
  },
  {
   "cell_type": "code",
   "execution_count": null,
   "metadata": {},
   "outputs": [],
   "source": [
    "roi_cluster_labels_mask = np.ma.array(roi_cluster_labels, mask=roi_cluster_labels==0)\n",
    "plt.figure(figsize = (10,10))\n",
    "plt.subplot(121)\n",
    "plt.imshow(img_ch1[y_start: y_end, x_start: x_end], interpolation='none', cmap='gray')\n",
    "plt.subplot(122)\n",
    "plt.imshow(roi_cluster_labels_mask[y_start: y_end, x_start: x_end], interpolation='none', cmap='prism')"
   ]
  },
  {
   "cell_type": "code",
   "execution_count": null,
   "metadata": {},
   "outputs": [],
   "source": [
    "# First import module napari\n",
    "import napari\n",
    "\n",
    "# Create an empty viewer object\n",
    "viewer = napari.Viewer()\n",
    "\n",
    "# Use viewer.add_image() and pass the image as a variable to visulize the image. Similar to that for matplotlib, set options:\n",
    "#  * colormap as 'gray'\n",
    "#  * interpolation (interpolation2d) is 'nearest' (which correspond to minimum interpolation) by default, so no need to specify \n",
    "#  * name as 'Raw Image'\n",
    "viewer.add_image(img_ch0, colormap = 'red', name= 'Raw Image', blending= 'additive')\n",
    "viewer.add_image(img_ch1, colormap = 'green', name= 'Raw Image', blending= 'additive')\n",
    "viewer.add_image(img_ch2, colormap = 'blue', name= 'Raw Image', blending= 'additive')\n",
    "\n",
    "viewer.add_labels(roi_cluster_labels)"
   ]
  },
  {
   "cell_type": "code",
   "execution_count": null,
   "metadata": {},
   "outputs": [],
   "source": [
    "viewer.add_labels(seed_rois)"
   ]
  },
  {
   "cell_type": "markdown",
   "metadata": {},
   "source": [
    "## Compare the color distribution of groups"
   ]
  },
  {
   "cell_type": "code",
   "execution_count": null,
   "metadata": {},
   "outputs": [],
   "source": [
    "# Add the cluster labels to the props_df\n",
    "props_df.insert(...)"
   ]
  },
  {
   "cell_type": "code",
   "execution_count": null,
   "metadata": {},
   "outputs": [],
   "source": [
    "props_df.head()"
   ]
  },
  {
   "cell_type": "code",
   "execution_count": null,
   "metadata": {},
   "outputs": [],
   "source": [
    "sns.kdeplot(data=props_df, x=\"intensity_mean_ch0\", hue=\"Cluster ID\")"
   ]
  },
  {
   "cell_type": "code",
   "execution_count": null,
   "metadata": {},
   "outputs": [],
   "source": [
    "sns.kdeplot(data=props_df, x=\"area\", hue=\"Cluster ID\")"
   ]
  }
 ],
 "metadata": {
  "kernelspec": {
   "display_name": "Python 3",
   "language": "python",
   "name": "python3"
  },
  "language_info": {
   "codemirror_mode": {
    "name": "ipython",
    "version": 3
   },
   "file_extension": ".py",
   "mimetype": "text/x-python",
   "name": "python",
   "nbconvert_exporter": "python",
   "pygments_lexer": "ipython3",
   "version": "3.11.9"
  }
 },
 "nbformat": 4,
 "nbformat_minor": 2
}
